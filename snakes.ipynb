{
 "metadata": {
  "name": "",
  "signature": "sha256:5a69c6cf6eb7d319fb1c8fabaeecb88bacaaa7e10edabd7d22da6b7dba9ecb0b"
 },
 "nbformat": 3,
 "nbformat_minor": 0,
 "worksheets": [
  {
   "cells": [
    {
     "cell_type": "markdown",
     "metadata": {},
     "source": [
      "## Snake energy functionals\n",
      "\n",
      "The total energy of the model $E_{snake}$ is given by the sum of the energy for the individual snake elements.\n",
      "\n",
      "$$E_{snake} = \\int_0^1 E_{element}(\\mathbf{x}(s)) \\; ds$$\n",
      "\n",
      "This can be rewritten in terms of *three basic energy functionals*:\n",
      "\n",
      "$$E_{snake} = \\int_0^1 E_{intern}(\\mathbf{x}) ds \\; + \\int_0^1 E_{extern}(\\mathbf{x}) ds \\; + \\int_0^1 E_{image}(\\mathbf{x}) ds $$\n",
      "\n",
      "1. **Internal forces** &ndash; Internal constraints give the model tension and stiffness.\n",
      "2. **External forces** &ndash; External constraints come from high-level sources such as humans or automatic initialisation.\n",
      "3. **Image forces** &ndash; Image energy is used to drive the model towards salient features such as edges."
     ]
    },
    {
     "cell_type": "code",
     "collapsed": false,
     "input": [
      "# standard computer vision imports\n",
      "import numpy as np\n",
      "import cv2\n",
      "\n",
      "# displaying images inline\n",
      "from IPython.display import Image, display"
     ],
     "language": "python",
     "metadata": {},
     "outputs": [],
     "prompt_number": 222
    },
    {
     "cell_type": "markdown",
     "metadata": {},
     "source": [
      "#### Debugging methods"
     ]
    },
    {
     "cell_type": "code",
     "collapsed": false,
     "input": [
      "# draws a polyline between points\n",
      "def polyline(img, pts, c=[0,0,255], t=1, closed=False, circles=False):\n",
      "    \n",
      "    pts = np.array(pts).astype(int)\n",
      "    if closed : pts = np.append(pts,[pts[0]],axis=0)\n",
      "    for (x1,y1), (x2,y2) in zip(pts[:-1], pts[1:]):\n",
      "        cv2.line(img,(x1,y1),(x2,y2), c, t)\n",
      "        if circles : cv2.circle(img, (x1,y1), t*2, c, -1) "
     ],
     "language": "python",
     "metadata": {},
     "outputs": [],
     "prompt_number": 889
    },
    {
     "cell_type": "markdown",
     "metadata": {},
     "source": [
      "#### Create a test image"
     ]
    },
    {
     "cell_type": "code",
     "collapsed": false,
     "input": [
      "img = np.ones((200,300))*255\n",
      "cv2.rectangle(img, (0,0), (img.shape[1]-1,img.shape[0]-1), 0) # draw a border\n",
      "cv2.circle(img,(img.shape[1]/2,img.shape[0]/2),50,0,-1)       # draw a shape in the middle\n",
      "\n",
      "cv2.rectangle(img, (img.shape[1]/2-50,img.shape[0]/2-50),\n",
      "              (img.shape[1]/2+50,img.shape[0]/2+50), 0, -1)\n",
      "\n",
      "cv2.imwrite(\"snakes_input_img.png\", img)\n",
      "display(Image(\"snakes_input_img.png\"))"
     ],
     "language": "python",
     "metadata": {},
     "outputs": [
      {
       "metadata": {},
       "output_type": "display_data",
       "png": "[encoded data removed]",
       "text": [
        "<IPython.core.display.Image at 0x4d856f0>"
       ]
      }
     ],
     "prompt_number": 890
    },
    {
     "cell_type": "code",
     "collapsed": false,
     "input": [
      "# number of discrete snake elements\n",
      "N = 50\n",
      "\n",
      "# make a snake in a circle\n",
      "thts =  np.radians(np.arange(N)*360/N)\n",
      "xs = np.sin(thts)*80 + img.shape[1]/2\n",
      "ys = np.cos(thts)*80 + img.shape[0]/2\n",
      "\n",
      "# show initial snake\n",
      "debug_img = cv2.cvtColor(np.float32(img),cv2.COLOR_GRAY2BGR)\n",
      "polyline(debug_img,zip(xs,ys),circles=True,closed=True)\n",
      "cv2.imwrite(\"snakes_input_img.png\", debug_img)\n",
      "display(Image(\"snakes_input_img.png\"))"
     ],
     "language": "python",
     "metadata": {},
     "outputs": [
      {
       "metadata": {},
       "output_type": "display_data",
       "png": "[encoded data removed]",
       "text": [
        "<IPython.core.display.Image at 0x4e154d0>"
       ]
      }
     ],
     "prompt_number": 891
    },
    {
     "cell_type": "markdown",
     "metadata": {},
     "source": [
      "### Internal (intra-snake) energy\n",
      "\n",
      "This energy contains a first-order term controlled by $\\alpha(s)$, tension; and a second-order term controlled by $\\beta(s)$, stiffness. $\\alpha$ makes the snake contract like an elastic band, while $\\beta$ makes it resist bending.\n",
      "\n",
      "$$ E_{intern}(\\mathbf{x}) = \\alpha(s)|{\\mathbf{x}_s(s)|^2} + \\beta(s)|\\mathbf{x}_{ss}(s)|^2 $$\n",
      "\n",
      "$\\alpha$ makes the discrete snake elements want to be close to eachother. $\\beta$ makes the snake elements want to form a straight line."
     ]
    },
    {
     "cell_type": "code",
     "collapsed": false,
     "input": [
      "alpha = 1.0 # tension\n",
      "beta = 0.5  # stiffness\n",
      "\n",
      "ds = 1.0\n",
      "ds2 = ds*ds\n",
      "dt = 0.05"
     ],
     "language": "python",
     "metadata": {},
     "outputs": [],
     "prompt_number": 892
    },
    {
     "cell_type": "markdown",
     "metadata": {},
     "source": [
      "### Image *(potential)* energy functionals\n",
      "\n",
      "Potential energy $\\mathbf{P}$ generated by processing image $I(x,y)$ produces a force that drives snakes towards features of interest."
     ]
    },
    {
     "cell_type": "markdown",
     "metadata": {},
     "source": [
      "The simplest potential energy is the *unprocessed image intensity* so that $P(\\mathbf{x}) = I(\\mathbf{x})$. Using $\\nabla$ to indicate image gradient, the corresponding image force $\\partial\\mathbf{x}$ is then given by:\n",
      "\n",
      "$$ \\partial\\mathbf{x} \\propto -\\frac{\\partial P}{\\partial\\mathbf{x}} = -\\frac{\\partial I}{\\partial\\mathbf{x}} = -\\nabla I \\mathbf{x} $$"
     ]
    },
    {
     "cell_type": "code",
     "collapsed": false,
     "input": [
      "img_dx = cv2.Sobel(img, cv2.CV_64F, 1, 0, ksize=5)\n",
      "img_dy = cv2.Sobel(img, cv2.CV_64F, 0, 1, ksize=5)\n",
      "\n",
      "cv2.normalize(img_dx,img_dx,-1,1,cv2.NORM_MINMAX)\n",
      "cv2.normalize(img_dy,img_dy,-1,1,cv2.NORM_MINMAX)\n",
      "\n",
      "# show image gradients\n",
      "grads_to_vis = [cv2.normalize(g,None,0,255,cv2.NORM_MINMAX) for g in [img_dx,img_dy]]\n",
      "cv2.imwrite(\"snakes_img_gradients.png\", np.hstack(grads_to_vis))\n",
      "display(Image(\"snakes_img_gradients.png\"))"
     ],
     "language": "python",
     "metadata": {},
     "outputs": [
      {
       "metadata": {},
       "output_type": "display_data",
       "png": "[encoded data removed]",
       "text": [
        "<IPython.core.display.Image at 0x4e15ed0>"
       ]
      }
     ],
     "prompt_number": 893
    },
    {
     "cell_type": "markdown",
     "metadata": {},
     "source": [
      "## Algorithm: semi-implicit energy minimization"
     ]
    },
    {
     "cell_type": "code",
     "collapsed": false,
     "input": [
      "# external step\n",
      "for j in range(len(xs)):\n",
      "    print img_dx[ys[j],xs[j]]\n",
      "    xs[j] += dt * img_dx[ys[j],xs[j]]\n",
      "    ys[j] += dt * img_dy[ys[j],xs[j]]\n",
      "\n",
      "# internal step\n",
      "a = alpha*dt/float(ds2)\n",
      "b = beta*dt/float(ds2)\n",
      "p = b\n",
      "q = -a-4*b\n",
      "r = 1+2*a+6*b\n",
      "\n",
      "M = np.zeros((N,N))\n",
      "\n",
      "n = M.shape[0]\n",
      "\n",
      "def set_diagonal(mat, diag, val):\n",
      "    n = mat.shape[0]\n",
      "    mat[[i for i in range(n) if 0 <= (i+diag) < n],\n",
      "        [(i+diag) for i in range(n) if 0 <= (i+diag) < n]] = val\n",
      "\n",
      "set_diagonal(M,0,r)\n",
      "set_diagonal(M,1,q)\n",
      "set_diagonal(M,-1,q)\n",
      "set_diagonal(M,2,p)\n",
      "set_diagonal(M,-2,p)\n",
      "set_diagonal(M,n-1,q)\n",
      "set_diagonal(M,n-2,p)\n",
      "set_diagonal(M,-(n-1),q)\n",
      "set_diagonal(M,-(n-2),p)\n",
      "\n",
      "# print M\n",
      "\n",
      "# print np.linalg.inv(M)\n",
      "\n",
      "xs = np.ravel((np.linalg.inv(M) * np.matrix(xs).T))\n",
      "ys = np.ravel((np.linalg.inv(M) * np.matrix(ys).T))\n",
      "\n",
      "# show new snake\n",
      "debug_img = cv2.cvtColor(np.float32(img),cv2.COLOR_GRAY2BGR)\n",
      "polyline(debug_img,zip(xs,ys),circles=True,closed=True)\n",
      "cv2.imwrite(\"snakes_input_img.png\", debug_img)\n",
      "display(Image(\"snakes_input_img.png\"))"
     ],
     "language": "python",
     "metadata": {},
     "outputs": [
      {
       "output_type": "stream",
       "stream": "stdout",
       "text": [
        "-1.11022302463e-16\n",
        "-1.11022302463e-16\n",
        "-1.11022302463e-16\n",
        "-1.11022302463e-16\n",
        "-1.11022302463e-16\n",
        "-1.11022302463e-16\n",
        "-1.11022302463e-16\n",
        "-1.11022302463e-16\n",
        "-1.11022302463e-16\n",
        "-1.11022302463e-16\n",
        "-1.11022302463e-16\n",
        "-1.11022302463e-16\n",
        "-1.11022302463e-16\n",
        "-1.11022302463e-16\n",
        "-1.11022302463e-16\n",
        "-1.11022302463e-16\n",
        "-1.11022302463e-16\n",
        "-1.11022302463e-16\n",
        "-1.11022302463e-16\n",
        "-1.11022302463e-16\n",
        "-1.11022302463e-16\n",
        "-1.11022302463e-16\n",
        "-1.11022302463e-16\n",
        "-1.11022302463e-16\n",
        "-1.11022302463e-16\n",
        "-1.11022302463e-16\n",
        "-1.11022302463e-16\n",
        "-1.11022302463e-16\n",
        "-1.11022302463e-16\n",
        "-1.11022302463e-16\n",
        "-1.11022302463e-16\n",
        "-1.11022302463e-16\n",
        "-1.11022302463e-16\n",
        "-1.11022302463e-16\n",
        "-1.11022302463e-16\n",
        "-1.11022302463e-16\n",
        "-1.11022302463e-16\n",
        "-1.11022302463e-16\n",
        "-1.11022302463e-16\n",
        "-1.11022302463e-16\n",
        "-1.11022302463e-16\n",
        "-1.11022302463e-16\n",
        "-1.11022302463e-16\n",
        "-1.11022302463e-16\n",
        "-1.11022302463e-16\n",
        "-1.11022302463e-16\n",
        "-1.11022302463e-16\n",
        "-1.11022302463e-16\n",
        "-1.11022302463e-16\n",
        "-1.11022302463e-16\n"
       ]
      },
      {
       "metadata": {},
       "output_type": "display_data",
       "png": "[encoded data removed]",
       "text": [
        "<IPython.core.display.Image at 0x4e15a70>"
       ]
      }
     ],
     "prompt_number": 894
    },
    {
     "cell_type": "code",
     "collapsed": false,
     "input": [
      "# external step\n",
      "for j in range(len(xs)):\n",
      "#     print img_dx[ys[j],xs[j]]\n",
      "    xs[j] += dt * img_dx[ys[j],xs[j]] * 100\n",
      "    ys[j] += dt * img_dy[ys[j],xs[j]] * 100\n",
      "\n",
      "xs = np.ravel((np.linalg.inv(M) * np.matrix(xs).T))\n",
      "ys = np.ravel((np.linalg.inv(M) * np.matrix(ys).T))\n",
      "\n",
      "# show new snake\n",
      "debug_img = cv2.cvtColor(np.float32(img),cv2.COLOR_GRAY2BGR)\n",
      "polyline(debug_img,zip(xs,ys),circles=True,closed=True)\n",
      "cv2.imwrite(\"snakes_input_img.png\", debug_img)\n",
      "display(Image(\"snakes_input_img.png\"))"
     ],
     "language": "python",
     "metadata": {},
     "outputs": [
      {
       "metadata": {},
       "output_type": "display_data",
       "png": "[encoded data removed]",
       "text": [
        "<IPython.core.display.Image at 0x4fc04d0>"
       ]
      }
     ],
     "prompt_number": 1589
    },
    {
     "cell_type": "code",
     "collapsed": false,
     "input": [],
     "language": "python",
     "metadata": {},
     "outputs": [],
     "prompt_number": 895
    },
    {
     "cell_type": "code",
     "collapsed": false,
     "input": [],
     "language": "python",
     "metadata": {},
     "outputs": [],
     "prompt_number": 175
    },
    {
     "cell_type": "code",
     "collapsed": false,
     "input": [],
     "language": "python",
     "metadata": {},
     "outputs": []
    }
   ],
   "metadata": {}
  }
 ]
}